{
  "nbformat": 4,
  "nbformat_minor": 0,
  "metadata": {
    "colab": {
      "provenance": [],
      "authorship_tag": "ABX9TyOXtHeNzAJDYUIVgGmruMZq",
      "include_colab_link": true
    },
    "kernelspec": {
      "name": "python3",
      "display_name": "Python 3"
    },
    "language_info": {
      "name": "python"
    }
  },
  "cells": [
    {
      "cell_type": "markdown",
      "metadata": {
        "id": "view-in-github",
        "colab_type": "text"
      },
      "source": [
        "<a href=\"https://colab.research.google.com/github/ProBlematicWN/labs/blob/main/04_12_2024_%D0%9A%D1%83%D0%B2%D1%88%D0%B8%D0%BD%D0%BE%D0%B2%D0%94%D0%9E_%D0%91%D0%98%D0%9A_24_%D0%98%D0%921.ipynb\" target=\"_parent\"><img src=\"https://colab.research.google.com/assets/colab-badge.svg\" alt=\"Open In Colab\"/></a>"
      ]
    },
    {
      "cell_type": "markdown",
      "source": [
        "Задание №1"
      ],
      "metadata": {
        "id": "zI2Bme2IEsyY"
      }
    },
    {
      "cell_type": "code",
      "source": [
        "import numpy as np\n",
        "\n",
        "num = int(input(\"Введите количество строк и столбцов: \"))\n",
        "mat1 = []\n",
        "mat2 = []\n",
        "a = 0\n",
        "for i in range(num):\n",
        "  for f in range(num):\n",
        "    a += 1\n",
        "    mat2.append(a)\n",
        "  mat1.append(mat2)\n",
        "  mat2 = []\n",
        "print(mat1)\n",
        "\n",
        "if len(mat1) == 1:\n",
        "  print(\"Определитель матрицы равен\", mat1[0][0])\n",
        "if len(mat1) == 2:\n",
        "  print(\"Определитель матрицы равен\", mat1[0][0] * mat1[1][1] - mat1[0][1] * mat1[1][0])\n",
        "if len(mat1) >= 3:\n",
        "  n_array = np.array(mat1)\n",
        "  print(\"Определитель матрицы равен\", np.linalg.det(n_array))"
      ],
      "metadata": {
        "id": "Zll98WcmEs7I"
      },
      "execution_count": null,
      "outputs": []
    },
    {
      "cell_type": "markdown",
      "source": [
        "Задание №2"
      ],
      "metadata": {
        "id": "z8y_me9jEtCY"
      }
    },
    {
      "cell_type": "code",
      "source": [
        "import numpy as np\n",
        "\n",
        "num = int(input(\"Введите количество строк и столбцов: \"))\n",
        "mat1 = []\n",
        "mat2 = []\n",
        "a = num**2\n",
        "for i in range(num):\n",
        "  for f in range(num):\n",
        "    mat2.append(a)\n",
        "    a -= 1\n",
        "  mat1.append(mat2)\n",
        "  mat2 = []\n",
        "print(mat1)\n",
        "\n",
        "if len(mat1) == 1:\n",
        "  print(\"Определитель матрицы равен\", mat1[0][0])\n",
        "if len(mat1) == 2:\n",
        "  print(\"Определитель матрицы равен\", mat1[0][0] * mat1[1][1] - mat1[0][1] * mat1[1][0])\n",
        "if len(mat1) >= 3:\n",
        "  n_array = np.array(mat1)\n",
        "  print(\"Определитель матрицы равен\", np.linalg.det(n_array))"
      ],
      "metadata": {
        "id": "UaxljPGzEtJw"
      },
      "execution_count": null,
      "outputs": []
    },
    {
      "cell_type": "markdown",
      "source": [
        "Задание №3"
      ],
      "metadata": {
        "id": "r0V-kfWMEtQo"
      }
    },
    {
      "cell_type": "code",
      "source": [
        "table = [['ФИО','Балл по программированию','Балл по ОБЖ','Балл по алгебре'],['Петров', '78', '93', '61'],['Иванов', '56', '67', '73'],['Сидоров', '81', '75', '70']]\n",
        "\n",
        "subjects = table[0][1:]\n",
        "scores = table[0:][1:]\n",
        "sub_1_scores = table[0:][1]\n",
        "sub_2_scores = table[0:][2]\n",
        "sub_3_scores = table[0:][3]\n",
        "\n",
        "\n",
        "print(sub_1_scores)"
      ],
      "metadata": {
        "id": "nMstcyLMEtXw"
      },
      "execution_count": null,
      "outputs": []
    }
  ]
}