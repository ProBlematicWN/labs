{
  "cells": [
    {
      "cell_type": "markdown",
      "metadata": {
        "id": "view-in-github",
        "colab_type": "text"
      },
      "source": [
        "<a href=\"https://colab.research.google.com/github/ProBlematicWN/labs/blob/main/%D0%9D%D0%B5%D0%B4%D0%B5%D0%BB%D1%8F6_%D0%9A%D1%83%D0%B2%D1%88%D0%B8%D0%BD%D0%BE%D0%B2%D0%94%D0%9E_%D0%91%D0%98%D0%9A_24_%D0%98%D0%921.ipynb\" target=\"_parent\"><img src=\"https://colab.research.google.com/assets/colab-badge.svg\" alt=\"Open In Colab\"/></a>"
      ]
    },
    {
      "cell_type": "markdown",
      "metadata": {
        "id": "uqWEwmNm89Uz"
      },
      "source": [
        "Задача №1"
      ]
    },
    {
      "cell_type": "code",
      "execution_count": null,
      "metadata": {
        "id": "FGYwg4o58z77"
      },
      "outputs": [],
      "source": [
        "def check_sequence(numbers):\n",
        "    seen = set()\n",
        "    result = []\n",
        "    for num in numbers:\n",
        "        if num in seen:\n",
        "            result.append(\"YES\")\n",
        "        else:\n",
        "            result.append(\"NO\")\n",
        "            seen.add(num)\n",
        "    return result\n",
        "\n",
        "numbers = input(\"введите последовательность чисел через пробел: \").split()\n",
        "output = check_sequence(numbers)\n",
        "print(\"\\n\".join(output))"
      ]
    },
    {
      "cell_type": "markdown",
      "metadata": {
        "id": "GMy2bhZy-Mjn"
      },
      "source": [
        "Задача №2"
      ]
    },
    {
      "cell_type": "code",
      "execution_count": null,
      "metadata": {
        "id": "fm4DN2WU9-OW"
      },
      "outputs": [],
      "source": [
        "from collections import defaultdict, deque\n",
        "\n",
        "def minimum_transfers(n, m, metro_lines, start, end):\n",
        "    station_to_lines = defaultdict(set)\n",
        "    graph = defaultdict(set)\n",
        "\n",
        "    for line_id, line in enumerate(metro_lines):\n",
        "        for station in line:\n",
        "            station_to_lines[station].add(line_id)\n",
        "        for i in range(len(line) - 1):\n",
        "            graph[line_id].add(line_id)  # Same line\n",
        "            for other in station_to_lines[line[i]]:\n",
        "                graph[line_id].add(other)\n",
        "\n",
        "    visited = set()\n",
        "    queue = deque([(line, 0) for line in station_to_lines[start]])\n",
        "\n",
        "    while queue:\n",
        "        current, transfers = queue.popleft()\n",
        "        if current in visited:\n",
        "            continue\n",
        "        visited.add(current)\n",
        "        if any(end in metro_lines[current] for current in visited):\n",
        "            return transfers\n",
        "\n",
        "        for neighbor in graph[current]:\n",
        "            if neighbor not in visited:\n",
        "                queue.append((neighbor, transfers + 1))\n",
        "    return -1\n",
        "\n",
        "n = 5\n",
        "m = 3\n",
        "lines = [[3, 1, 2, 3], [3, 2, 3, 4]]\n",
        "a, b = 1, 5\n",
        "print(minimum_transfers(n, m, lines, a, b))\n"
      ]
    },
    {
      "cell_type": "markdown",
      "metadata": {
        "id": "qp2OCFytB0Q8"
      },
      "source": [
        "Задача №3.1 (их почему-то две таких третьих в файле)"
      ]
    },
    {
      "cell_type": "code",
      "execution_count": null,
      "metadata": {
        "id": "SO4oaRWzBz2V"
      },
      "outputs": [],
      "source": [
        "import pandas as pd\n",
        "\n",
        "def map_cities_to_countries(n, country_data, m, queries):\n",
        "\n",
        "    # n: кол-во стран\n",
        "    # country_data: список стран и городов\n",
        "    # m: количество запросов\n",
        "    # queries: cписок запрашиваемых городов\n",
        "    # return: cписок стран для каждого запроса\n",
        "\n",
        "    data = []\n",
        "    for entry in country_data:\n",
        "        country, *cities = entry.split()\n",
        "        for city in cities:\n",
        "            data.append({\"City\": city, \"Country\": country})\n",
        "\n",
        "    df = pd.DataFrame(data)\n",
        "\n",
        "    # поиск страны для каждого города\n",
        "    result = []\n",
        "    for query in queries:\n",
        "        match = df[df[\"City\"] == query]\n",
        "        if not match.empty:\n",
        "            result.append(match[\"Country\"].values[0])\n",
        "        else:\n",
        "            result.append(\"Unknown\")\n",
        "    return result\n",
        "\n",
        "# данные на ввод\n",
        "n = 3\n",
        "country_data = [\n",
        "    \"Russia Moscow SPB Novosibirsk\",\n",
        "    \"USA NewYork LosAngeles Chicago\",\n",
        "    \"Japan Tokyo Osaka Kyoto\"\n",
        "]\n",
        "\n",
        "m = 5\n",
        "queries = [\"Tokyo\", \"Moscow\", \"NewYork\", \"Kyoto\", \"Berlin\"]\n",
        "\n",
        "results = map_cities_to_countries(n, country_data, m, queries)\n",
        "print(\"\\n\".join(results))"
      ]
    },
    {
      "cell_type": "markdown",
      "metadata": {
        "id": "h_U3XNV-2gyz"
      },
      "source": [
        "Задача №3.2"
      ]
    },
    {
      "cell_type": "code",
      "execution_count": null,
      "metadata": {
        "id": "6L3hxw6t2gyz"
      },
      "outputs": [],
      "source": [
        "def tally_votes(votes):\n",
        "\n",
        "    # param votes: список строк с фамилией кандидата и числом голосов\n",
        "    # return: словарь с подсчетом голосов\n",
        "\n",
        "    vote_count = {}\n",
        "    for vote in votes:\n",
        "        candidate, num_votes = vote.split()\n",
        "        num_votes = int(num_votes)\n",
        "        vote_count[candidate] = vote_count.get(candidate, 0) + num_votes\n",
        "    return vote_count\n",
        "\n",
        "def format_results(vote_count):\n",
        "    sorted_results = sorted(vote_count.items())\n",
        "    return [f\"{candidate} {votes}\" for candidate, votes in sorted_results]\n",
        "\n",
        "votes = [\n",
        "    \"Smith 10\",\n",
        "    \"Johnson 15\",\n",
        "    \"Smith 5\",\n",
        "    \"Brown 20\",\n",
        "    \"Johnson 10\"\n",
        "]\n",
        "\n",
        "vote_count = tally_votes(votes)\n",
        "results = format_results(vote_count)\n",
        "print(\"\\n\".join(results))"
      ]
    },
    {
      "cell_type": "markdown",
      "metadata": {
        "id": "DPTbyV5kEuZi"
      },
      "source": [
        "Задача №4"
      ]
    },
    {
      "cell_type": "code",
      "execution_count": null,
      "metadata": {
        "id": "oOL0YxhKEt_S"
      },
      "outputs": [],
      "source": [
        "from collections import Counter\n",
        "\n",
        "def word_frequency_analysis(text):\n",
        "    words = text.split()\n",
        "    freq = Counter(words)\n",
        "    sorted_words = sorted(freq.items(), key=lambda x: (-x[1], x[0]))\n",
        "    return [word for word, count in sorted_words]\n",
        "\n",
        "text = input(\"Введите текст: \")\n",
        "output = word_frequency_analysis(text)\n",
        "print(\"\\n\".join(output))"
      ]
    },
    {
      "cell_type": "markdown",
      "metadata": {
        "id": "6W8LKW-iLTDS"
      },
      "source": [
        "Задача №5"
      ]
    },
    {
      "cell_type": "code",
      "execution_count": null,
      "metadata": {
        "id": "M1vLyjZULSho"
      },
      "outputs": [],
      "source": [
        "# Здесь в классе BankSystem хранятся счета клиентов в словаре accounts\n",
        "# ключ — имя клиента\n",
        "# значение — баланс\n",
        "# deposit: увеличивает баланс клиента\n",
        "# withdraw: уменьшает баланс клиента\n",
        "# balance: возвращает баланс клиента или \"ERROR\", если счёта нет\n",
        "# transfer: переводит сумму между счетами двух клиентов\n",
        "# income: начисляет процент на положительные балансы\n",
        "# Функция process_operations брабатывает список операций...\n",
        "# ...вызывает соответствующие методы класса BankSystem и собирает результаты запросов BALANCE\n",
        "\n",
        "class BankSystem:\n",
        "    def __init__(self):\n",
        "        self.accounts = {}\n",
        "\n",
        "    def deposit(self, name, amount):\n",
        "        if name not in self.accounts:\n",
        "            self.accounts[name] = 0\n",
        "        self.accounts[name] += amount\n",
        "\n",
        "    def withdraw(self, name, amount):\n",
        "        if name not in self.accounts:\n",
        "            self.accounts[name] = 0\n",
        "        self.accounts[name] -= amount\n",
        "\n",
        "    def balance(self, name):\n",
        "        if name not in self.accounts:\n",
        "            return \"ERROR\"\n",
        "        return self.accounts[name]\n",
        "\n",
        "    def transfer(self, name1, name2, amount):\n",
        "        if name1 not in self.accounts:\n",
        "            self.accounts[name1] = 0\n",
        "        if name2 not in self.accounts:\n",
        "            self.accounts[name2] = 0\n",
        "        self.accounts[name1] -= amount\n",
        "        self.accounts[name2] += amount\n",
        "\n",
        "    def income(self, percent):\n",
        "        for name, balance in self.accounts.items():\n",
        "            if balance > 0:\n",
        "                self.accounts[name] += balance * percent // 100\n",
        "\n",
        "def process_operations(operations):\n",
        "    bank = BankSystem()\n",
        "    results = []\n",
        "\n",
        "    for operation in operations:\n",
        "        parts = operation.split()\n",
        "        cmd = parts[0]\n",
        "        if cmd == \"DEPOSIT\":\n",
        "            name, amount = parts[1], int(parts[2])\n",
        "            bank.deposit(name, amount)\n",
        "        elif cmd == \"WITHDRAW\":\n",
        "            name, amount = parts[1], int(parts[2])\n",
        "            bank.withdraw(name, amount)\n",
        "        elif cmd == \"BALANCE\":\n",
        "            name = parts[1]\n",
        "            results.append(bank.balance(name))\n",
        "        elif cmd == \"TRANSFER\":\n",
        "            name1, name2, amount = parts[1], parts[2], int(parts[3])\n",
        "            bank.transfer(name1, name2, amount)\n",
        "        elif cmd == \"INCOME\":\n",
        "            percent = int(parts[1])\n",
        "            bank.income(percent)\n",
        "\n",
        "    return results\n",
        "\n",
        "operations = [\n",
        "    \"DEPOSIT Alice 100\",\n",
        "    \"BALANCE Alice\",\n",
        "    \"WITHDRAW Alice 50\",\n",
        "    \"BALANCE Alice\",\n",
        "    \"TRANSFER Alice Bob 30\",\n",
        "    \"BALANCE Bob\",\n",
        "    \"BALANCE Charlie\",\n",
        "    \"INCOME 10\",\n",
        "    \"BALANCE Alice\",\n",
        "    \"BALANCE Bob\"\n",
        "]\n",
        "\n",
        "results = process_operations(operations)\n",
        "print(\"\\n\".join(map(str, results)))"
      ]
    },
    {
      "cell_type": "markdown",
      "metadata": {
        "id": "bj1UAUlDMD7c"
      },
      "source": [
        "Задача №6"
      ]
    },
    {
      "cell_type": "code",
      "execution_count": null,
      "metadata": {
        "id": "U6FXxE5mMDJd"
      },
      "outputs": [],
      "source": [
        "import numpy as np\n",
        "\n",
        "# генерация матрицы\n",
        "def generate_matrix(n, m):\n",
        "    matrix = np.zeros((n, m), dtype=int)\n",
        "    value = 0\n",
        "    for i in range(n):\n",
        "        if i % 2 == 0:\n",
        "            matrix[i, :] = range(value, value + m)\n",
        "        else:\n",
        "            matrix[i, :] = range(value + m - 1, value - 1, -1)\n",
        "        value += m\n",
        "    return matrix\n",
        "\n",
        "def get_matrix_element(n, m, x, y):\n",
        "    matrix = generate_matrix(n, m)\n",
        "    return matrix[x - 1, y - 1]\n",
        "\n",
        "n, m, x, y = 4, 4, 3, 2  # данные на ввод\n",
        "element = get_matrix_element(n, m, x, y)\n",
        "print(f\"Элемент в строке {x} и столбце {y}: {element}\")\n"
      ]
    },
    {
      "cell_type": "markdown",
      "metadata": {
        "id": "CrOm0OlTO3s6"
      },
      "source": [
        "Задача №7"
      ]
    },
    {
      "cell_type": "code",
      "execution_count": null,
      "metadata": {
        "id": "kBBjTqfZO3U9"
      },
      "outputs": [],
      "source": [
        "import numpy as np\n",
        "\n",
        "def max_calories(n, field):\n",
        "\n",
        "    # n: размер поля (n x n)\n",
        "\n",
        "    # матрица для калорий\n",
        "    dp = np.zeros((n, n), dtype=int)\n",
        "    dp[0][0] = field[0][0]\n",
        "\n",
        "    # строка 1\n",
        "    for j in range(1, n):\n",
        "        dp[0][j] = dp[0][j - 1] + field[0][j]\n",
        "\n",
        "    # столбец 1\n",
        "    for i in range(1, n):\n",
        "        dp[i][0] = dp[i - 1][0] + field[i][0]\n",
        "\n",
        "    # остальная часть матрицы\n",
        "    for i in range(1, n):\n",
        "        for j in range(1, n):\n",
        "            dp[i][j] = max(dp[i - 1][j], dp[i][j - 1]) + field[i][j]\n",
        "\n",
        "    return dp[n - 1][n - 1]\n",
        "\n",
        "# данные на ввод\n",
        "n = 4\n",
        "field = [\n",
        "    [0, 1, 2, 3],\n",
        "    [7, 6, 5, 4],\n",
        "    [8, 9, 10, 11],\n",
        "    [15, 14, 13, 12]\n",
        "]\n",
        "\n",
        "result = max_calories(n, field)\n",
        "print(f\"Максимальное количество калорий: {result}\")"
      ]
    },
    {
      "cell_type": "markdown",
      "metadata": {
        "id": "ixKyajIJP6fy"
      },
      "source": [
        "Задача №8"
      ]
    },
    {
      "cell_type": "code",
      "execution_count": null,
      "metadata": {
        "id": "BJVOpYu9P6NT"
      },
      "outputs": [],
      "source": [
        "import numpy as np\n",
        "\n",
        "def check_columns_goodness(x, n, matrix):\n",
        "\n",
        "    #x: Число x, которое ищем в столбцах\n",
        "    #n: Размер таблицы (n * n)\n",
        "    #matrix: Матрица размером (n * n)\n",
        "\n",
        "    # список ---> массив np\n",
        "    np_matrix = np.array(matrix)\n",
        "    results = []\n",
        "    for col in range(n):\n",
        "        if x in np_matrix[:, col]:  # проверка\n",
        "            results.append(\"YES\")\n",
        "        else:\n",
        "            results.append(\"NO\")\n",
        "    return results\n",
        "\n",
        "# данные на ввод\n",
        "x = 5  # искомое число\n",
        "n = 3  # размер таблицы\n",
        "matrix = [\n",
        "    [1, 2, 3],\n",
        "    [4, 5, 6],\n",
        "    [7, 8, 9]\n",
        "]\n",
        "\n",
        "# Получаем результаты\n",
        "results = check_columns_goodness(x, n, matrix)\n",
        "print(\"\\n\".join(results))"
      ]
    },
    {
      "cell_type": "markdown",
      "metadata": {
        "id": "Gd1BSHo_Qg4x"
      },
      "source": [
        "Задача №9"
      ]
    },
    {
      "cell_type": "code",
      "execution_count": null,
      "metadata": {
        "id": "OPp4Ha0aQgtD"
      },
      "outputs": [],
      "source": [
        "from collections import defaultdict\n",
        "\n",
        "def process_sales(sales):\n",
        "    data = defaultdict(lambda: defaultdict(int))\n",
        "\n",
        "    for sale in sales:\n",
        "        buyer, item, quantity = sale.split()\n",
        "        quantity = int(quantity)\n",
        "        data[buyer][item] += quantity\n",
        "\n",
        "    return data\n",
        "\n",
        "def format_report(data):\n",
        "    report = []\n",
        "    for buyer in sorted(data.keys()):\n",
        "        report.append(f\"{buyer}:\")\n",
        "        for item in sorted(data[buyer].keys()):\n",
        "            report.append(f\"{item} {data[buyer][item]}\")\n",
        "    return report\n",
        "\n",
        "# данные на ввод\n",
        "sales = [\n",
        "    \"Alice apple 3\",\n",
        "    \"Bob banana 2\",\n",
        "    \"Alice banana 1\",\n",
        "    \"Bob apple 4\",\n",
        "    \"Alice apple 2\",\n",
        "]\n",
        "\n",
        "data = process_sales(sales)\n",
        "report = format_report(data)\n",
        "print(\"\\n\".join(report))\n"
      ]
    },
    {
      "cell_type": "markdown",
      "metadata": {
        "id": "AZ6wdg80b32a"
      },
      "source": [
        "Задача №10"
      ]
    },
    {
      "cell_type": "code",
      "execution_count": null,
      "metadata": {
        "id": "r0S-sEDqb3ZB"
      },
      "outputs": [],
      "source": [
        "def process_file_system(file_data, queries):\n",
        "    permissions = {}\n",
        "\n",
        "    operation_map = {\"R\": \"read\", \"W\": \"write\", \"X\": \"execute\"}\n",
        "\n",
        "    # словарь с правами доступа\n",
        "    for entry in file_data:\n",
        "        parts = entry.split()\n",
        "        file_name, file_permissions = parts[0], parts[1:]\n",
        "        permissions[file_name] = {operation_map[perm] for perm in file_permissions}\n",
        "\n",
        "    # проверка запросов\n",
        "    results = []\n",
        "    for query in queries:\n",
        "        operation, file_name = query.split()\n",
        "        if file_name in permissions and operation in permissions[file_name]:\n",
        "            results.append(\"OK\")\n",
        "        else:\n",
        "            results.append(\"Access denied\")\n",
        "\n",
        "    return results\n",
        "\n",
        "# данные на ввод\n",
        "file_data = [\n",
        "    \"helloworld.py R X\",\n",
        "    \"pinglog W R\",\n",
        "    \"nya R\",\n",
        "    \"goodluck X W R\"\n",
        "]\n",
        "\n",
        "queries = [\n",
        "    \"read nya\",\n",
        "    \"write helloworld.py\",\n",
        "    \"execute nya\",\n",
        "    \"read pinglog\",\n",
        "    \"write pinglog\"\n",
        "]\n",
        "\n",
        "results = process_file_system(file_data, queries)\n",
        "print(\"\\n\".join(results))\n"
      ]
    }
  ],
  "metadata": {
    "colab": {
      "provenance": [],
      "include_colab_link": true
    },
    "kernelspec": {
      "display_name": "Python 3",
      "name": "python3"
    },
    "language_info": {
      "codemirror_mode": {
        "name": "ipython",
        "version": 3
      },
      "file_extension": ".py",
      "mimetype": "text/x-python",
      "name": "python",
      "nbconvert_exporter": "python",
      "pygments_lexer": "ipython3",
      "version": "3.12.0"
    }
  },
  "nbformat": 4,
  "nbformat_minor": 0
}