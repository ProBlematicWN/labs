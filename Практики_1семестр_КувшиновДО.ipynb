{
 "cells": [
  {
   "cell_type": "markdown",
   "metadata": {},
   "source": [
    "Практика №2"
   ]
  },
  {
   "cell_type": "markdown",
   "metadata": {},
   "source": [
    "Задание №1"
   ]
  },
  {
   "cell_type": "code",
   "execution_count": null,
   "metadata": {},
   "outputs": [],
   "source": [
    "a = 1\n",
    "b = 2\n",
    "c = a + b\n",
    "print(c, a+b)"
   ]
  },
  {
   "cell_type": "markdown",
   "metadata": {},
   "source": [
    "Задание №2"
   ]
  },
  {
   "cell_type": "code",
   "execution_count": null,
   "metadata": {},
   "outputs": [],
   "source": [
    "a = 15\n",
    "b = 100\n",
    "print(a, '\\n',b)"
   ]
  },
  {
   "cell_type": "markdown",
   "metadata": {},
   "source": [
    "Задание №3"
   ]
  },
  {
   "cell_type": "code",
   "execution_count": null,
   "metadata": {},
   "outputs": [],
   "source": [
    "n = int(input(\"Введите количество секунд: \"))\n",
    "hh = (n // 3600) % 24\n",
    "mm = (n % 3600) // 60\n",
    "ss = n % 60\n",
    "print(f\"Сейчас {hh:02}:{mm:02}:{ss:02}\")"
   ]
  },
  {
   "cell_type": "markdown",
   "metadata": {},
   "source": [
    "Практика №3"
   ]
  },
  {
   "cell_type": "markdown",
   "metadata": {},
   "source": [
    "Задание №1"
   ]
  },
  {
   "cell_type": "code",
   "execution_count": null,
   "metadata": {},
   "outputs": [],
   "source": [
    "inp = input()\n",
    "#inp = (\"абв,абвг,вбгд\")\n",
    "list = []\n",
    "answer = inp.split(\",\")\n",
    "for i in answer:\n",
    "  list.append(len(i))\n",
    "print(list)"
   ]
  },
  {
   "cell_type": "markdown",
   "metadata": {},
   "source": [
    "Задание №2"
   ]
  },
  {
   "cell_type": "code",
   "execution_count": null,
   "metadata": {},
   "outputs": [],
   "source": [
    "n = 8\n",
    "m = 5\n",
    "string = \"Привет мир\"\n",
    "\n",
    "print(string[:n].split())\n",
    "print(string[m:].split())"
   ]
  },
  {
   "cell_type": "markdown",
   "metadata": {},
   "source": [
    "Практика №4"
   ]
  },
  {
   "cell_type": "markdown",
   "metadata": {},
   "source": [
    "Задание №1"
   ]
  },
  {
   "cell_type": "code",
   "execution_count": null,
   "metadata": {},
   "outputs": [],
   "source": [
    "error = str(input(\"Введите код ошибки: \\n\"))\n",
    "\n",
    "match error:\n",
    "  case \"400\":\n",
    "    print(\"Bad Request\")\n",
    "  case \"401\":\n",
    "    print(\"Unauthorized\")\n",
    "  case \"402\":\n",
    "    print(\"Payment Required\")\n",
    "  case \"403\":\n",
    "    print(\"Forbidden\")\n",
    "  case \"404\":\n",
    "    print(\"Not Found\")\n",
    "  case \"405\":\n",
    "    print(\"Method Not Allowed\")\n",
    "  case \"406\":\n",
    "    print(\"Not Acceptable\")\n",
    "  case \"407\":\n",
    "    print(\"Proxy Auth Required\")\n",
    "  case \"408\":\n",
    "    print(\"Requested Timeout\")\n",
    "  case \"409\":\n",
    "    print(\"Conflict\")\n",
    "  case \"410\":\n",
    "    print(\"Gone\")"
   ]
  },
  {
   "cell_type": "markdown",
   "metadata": {},
   "source": [
    "Задание №2"
   ]
  },
  {
   "cell_type": "code",
   "execution_count": null,
   "metadata": {},
   "outputs": [],
   "source": [
    "\n",
    "surface = int(input(\"Введите размеры плоскости: \\n\"))\n",
    "x = int(input(\"Введите значение X: \\n\"))\n",
    "y = int(input(\"Введите значение y: \\n\"))\n",
    "\n",
    "if (x and y) < surface / 2:\n",
    "  print(\"Точка находится в 3 четверти\")\n",
    "if (x and y) > surface / 2:\n",
    "  print(\"Точка находится в 1 четверти\")\n",
    "if x > 50 and y < surface / 2:\n",
    "  print(\"Точка находится в 4 четверти\")\n",
    "if x < 50 and y > surface / 2:\n",
    "  print(\"Точка находится в 2 четверти\")\n",
    "elif x > surface or y > surface:\n",
    "  print(\"Точка находится за пределами допустимых значений\")"
   ]
  },
  {
   "cell_type": "markdown",
   "metadata": {},
   "source": [
    "Задание №3"
   ]
  },
  {
   "cell_type": "code",
   "execution_count": null,
   "metadata": {},
   "outputs": [],
   "source": [
    "year = int(input(\"Введите год: \\n\"))\n",
    "\n",
    "def leap_year(year):\n",
    "  print(str(year)[-2:])\n",
    "  if year % 4 == 0 and str(year)[-2:] != '00':\n",
    "    return True\n",
    "  else:\n",
    "    return False"
   ]
  },
  {
   "cell_type": "markdown",
   "metadata": {},
   "source": [
    "Практика №5"
   ]
  },
  {
   "cell_type": "markdown",
   "metadata": {},
   "source": [
    "Задание №1"
   ]
  },
  {
   "cell_type": "code",
   "execution_count": null,
   "metadata": {},
   "outputs": [],
   "source": [
    "n = int(input(\"Введите число n: \"))\n",
    "m = int(input(\"Введите число m: \"))\n",
    "print(f\"Сумма чисел от {n} до {m} равна {sum(range(n, m + 1))}\")"
   ]
  },
  {
   "cell_type": "markdown",
   "metadata": {},
   "source": [
    "Задание №2"
   ]
  },
  {
   "cell_type": "code",
   "execution_count": null,
   "metadata": {},
   "outputs": [],
   "source": [
    "while True:\n",
    "    n = int(input(\"Введите число n: \"))\n",
    "    m = int(input(\"Введите число m: \"))\n",
    "    if n == m:\n",
    "        break\n",
    "    print(f\"Сумма чисел {n} и {m} равна {n + m}\")\n"
   ]
  },
  {
   "cell_type": "markdown",
   "metadata": {},
   "source": [
    "Задание №3"
   ]
  },
  {
   "cell_type": "code",
   "execution_count": null,
   "metadata": {},
   "outputs": [],
   "source": [
    "with open(\"input.txt\", \"r\", encoding=\"utf-8\") as f:\n",
    "    data = f.readlines()\n",
    "\n",
    "phrase_count = len(data)\n",
    "print(f\"Количество фраз в документе: {phrase_count}\")\n",
    "\n",
    "word_count = sum(len(line.split()) for line in data)\n",
    "print(f\"Количество слов в документе: {word_count}\")\n",
    "\n",
    "print(\"\\nПервые 20 фраз с добавленным текстом:\")\n",
    "for i, phrase in enumerate(data[:20], start=1):\n",
    "    print(f\"{i}: Поисковая фраза - {phrase.strip()}\")\n",
    "\n",
    "print(\"\\nФразы с удаленным словом 'сайт':\")\n",
    "for phrase in data:\n",
    "    if \"сайт\" in phrase:\n",
    "        modified_phrase = \" \".join(word for word in phrase.split() if word != \"сайт\")\n",
    "        print(modified_phrase.strip())\n"
   ]
  },
  {
   "cell_type": "markdown",
   "metadata": {},
   "source": [
    "Практика №6"
   ]
  },
  {
   "cell_type": "markdown",
   "metadata": {},
   "source": [
    "Задание №1"
   ]
  },
  {
   "cell_type": "code",
   "execution_count": null,
   "metadata": {},
   "outputs": [],
   "source": [
    "list = []\n",
    "list_square = []\n",
    "list_cube = []\n",
    "for num in range(1,11):\n",
    "  list.append(num)\n",
    "  list_square.append(num**2)\n",
    "  list_cube.append(num**3)\n",
    "print(list, list_square, list_cube)"
   ]
  },
  {
   "cell_type": "markdown",
   "metadata": {},
   "source": [
    "Задание №2"
   ]
  },
  {
   "cell_type": "code",
   "execution_count": null,
   "metadata": {},
   "outputs": [],
   "source": [
    "numbers = []\n",
    "while True:\n",
    "  num = int(input(\"Введите число (0 для завершения)\"))\n",
    "  if num == 0:\n",
    "    break\n",
    "  numbers.append(num)\n",
    "\n",
    "min = min(numbers)\n",
    "print(\"Минимальное значение:\", min)\n",
    "\n",
    "max = max(numbers)\n",
    "print(\"Максимальное значение:\", max)\n",
    "\n",
    "#sorted = numbers.sort()\n",
    "#print(\"Отсортированный по возрастанию список:\", sorted)\n",
    "\n",
    "sorted = sorted(numbers)\n",
    "print(\"Отсортированный по возрастанию список:\", sorted)\n",
    "\n",
    "sorted_rev = sorted(numbers, reverse=True)\n",
    "print(\"Отсортированный по убыванию список:\", sorted_rev)\n",
    "\n",
    "list_len = len(numbers)\n",
    "print(\"Количество элементов в списке:\", list_len)\n",
    "\n",
    "list_ones = numbers.count(1)\n",
    "print(\"Количество единиц в списке:\", list_ones)\n",
    "\n",
    "list_sum = sum(numbers)\n",
    "print(\"Сумма всех чисел:\", list_sum)\n",
    "\n",
    "last_index = len(numbers) - 1\n",
    "last_value = numbers[-1]\n",
    "print(\"Индекс последнего элемента:\", last_index)\n",
    "print(\"Значение последнего элемента:\", last_value)"
   ]
  },
  {
   "cell_type": "markdown",
   "metadata": {},
   "source": [
    "Задание №3"
   ]
  },
  {
   "cell_type": "code",
   "execution_count": null,
   "metadata": {},
   "outputs": [],
   "source": [
    "nums = []\n",
    "\n",
    "while True:\n",
    "  num = int(input(\"Введите число (0 для завершения)\"))\n",
    "  print(\"Остаток от деления на 10:\", num % 10)\n",
    "  if num == 0:\n",
    "    break\n",
    "  if num % 2 == 0:\n",
    "    nums.append(num)\n",
    "\n",
    "\n",
    "for i in nums:\n",
    "  if nums[i] % 10 == 0:\n",
    "    nums.remove(nums[i])\n",
    "\n",
    "print(nums)"
   ]
  },
  {
   "cell_type": "markdown",
   "metadata": {},
   "source": [
    "Практика №7"
   ]
  },
  {
   "cell_type": "markdown",
   "metadata": {},
   "source": [
    "Задание №1"
   ]
  },
  {
   "cell_type": "code",
   "execution_count": null,
   "metadata": {},
   "outputs": [],
   "source": [
    "import numpy as np\n",
    "\n",
    "num = int(input(\"Введите количество строк и столбцов: \"))\n",
    "mat1 = []\n",
    "mat2 = []\n",
    "a = 0\n",
    "for i in range(num):\n",
    "  for f in range(num):\n",
    "    a += 1\n",
    "    mat2.append(a)\n",
    "  mat1.append(mat2)\n",
    "  mat2 = []\n",
    "print(mat1)\n",
    "\n",
    "if len(mat1) == 1:\n",
    "  print(\"Определитель матрицы равен\", mat1[0][0])\n",
    "if len(mat1) == 2:\n",
    "  print(\"Определитель матрицы равен\", mat1[0][0] * mat1[1][1] - mat1[0][1] * mat1[1][0])\n",
    "if len(mat1) >= 3:\n",
    "  n_array = np.array(mat1)\n",
    "  print(\"Определитель матрицы равен\", np.linalg.det(n_array))\n",
    "     "
   ]
  },
  {
   "cell_type": "markdown",
   "metadata": {},
   "source": [
    "Задание №2"
   ]
  },
  {
   "cell_type": "code",
   "execution_count": 2,
   "metadata": {},
   "outputs": [
    {
     "name": "stdout",
     "output_type": "stream",
     "text": [
      "Самый высокий средний балл по предмету: Балл по ОБЖ\n",
      "Ученик с самым высоким средним баллом: Петров\n"
     ]
    }
   ],
   "source": [
    "table = [\n",
    "    ['ФИО', 'Балл по программированию', 'Балл по ОБЖ', 'Балл по алгебре'],\n",
    "    ['Петров', '78', '93', '61'],\n",
    "    ['Иванов', '56', '67', '73'],\n",
    "    ['Сидорова', '81', '75', '70']\n",
    "]\n",
    "\n",
    "subjects = table[0][1:]\n",
    "subject_avg = {\n",
    "    subject: sum(int(row[i + 1]) for row in table[1:]) / len(table[1:])\n",
    "    for i, subject in enumerate(subjects)\n",
    "}\n",
    "best_subject = max(subject_avg, key=subject_avg.get)\n",
    "\n",
    "student_avg = {\n",
    "    row[0]: sum(int(score) for score in row[1:]) / len(row[1:])\n",
    "    for row in table[1:]\n",
    "}\n",
    "best_student = max(student_avg, key=student_avg.get)\n",
    "\n",
    "print(f\"Самый высокий средний балл по предмету: {best_subject}\")\n",
    "print(f\"Ученик с самым высоким средним баллом: {best_student}\")\n"
   ]
  },
  {
   "cell_type": "markdown",
   "metadata": {},
   "source": [
    "Практика №9"
   ]
  },
  {
   "cell_type": "markdown",
   "metadata": {},
   "source": [
    "Задание №1"
   ]
  },
  {
   "cell_type": "code",
   "execution_count": null,
   "metadata": {},
   "outputs": [],
   "source": [
    "inp = []\n",
    "dict1 = dict()\n",
    "\n",
    "\n",
    "while True:\n",
    "  inp1 = int(input(\"Введите 0 для завершения операции: \"))\n",
    "  if inp1 == 0:\n",
    "    break\n",
    "  inp.append(inp1)\n",
    "\n",
    "for i in set(inp):\n",
    "  dict1.update({ i: inp.count(i)})\n",
    "\n",
    "print(dict1)\n",
    "print(set(inp))"
   ]
  },
  {
   "cell_type": "markdown",
   "metadata": {},
   "source": [
    "Задание №2"
   ]
  },
  {
   "cell_type": "code",
   "execution_count": 1,
   "metadata": {},
   "outputs": [],
   "source": [
    "phonebook = {}\n",
    "\n",
    "while True:\n",
    "    command = input(\"Введите add чтобы добавить или who чтобы узнать: \").strip().lower()\n",
    "    if command == \"add\":\n",
    "        name = input(\"Введите имя: \").strip()\n",
    "        phone = input(\"Введите номер: \").strip()\n",
    "        phonebook[name] = phone\n",
    "        print(f'Добавлена запись \"{name}\": \"{phone}\"')\n",
    "    elif command == \"0\":\n",
    "        break\n",
    "    elif command == \"who\":\n",
    "        name = input(\"Введите имя: \").strip()\n",
    "        if name in phonebook:\n",
    "            print(f'Номер телефона для \"{name}\": {phonebook[name]}')\n",
    "        else:\n",
    "            print(f'Запись с именем \"{name}\" не найдена.')\n",
    "    else:\n",
    "        print(\"Неизвестная команда. Попробуйте снова.\")"
   ]
  },
  {
   "cell_type": "markdown",
   "metadata": {},
   "source": [
    "Практика №10"
   ]
  },
  {
   "cell_type": "markdown",
   "metadata": {},
   "source": [
    "Задание №1"
   ]
  },
  {
   "cell_type": "code",
   "execution_count": null,
   "metadata": {},
   "outputs": [],
   "source": [
    "list = []\n",
    "\n",
    "\n",
    "while True:\n",
    "  num = int(input(\"Введите: \"))\n",
    "  if num != 0:\n",
    "    list.append(num)\n",
    "  if num == 0:\n",
    "    break\n",
    "\n",
    "def summ():\n",
    "  a = 0\n",
    "  for arg in list:\n",
    "    a = arg + a\n",
    "  return a\n",
    "\n",
    "result = summ()\n",
    "print(result)"
   ]
  },
  {
   "cell_type": "markdown",
   "metadata": {},
   "source": [
    "Задание №2"
   ]
  },
  {
   "cell_type": "code",
   "execution_count": null,
   "metadata": {},
   "outputs": [],
   "source": [
    "def get_sorted_numbers(data):\n",
    "    return sorted(data.values())\n",
    "\n",
    "def get_sorted_names(data):\n",
    "    return sorted(data.keys())\n",
    "\n",
    "data = {}\n",
    "while True:\n",
    "    name, phone = input(\"Введите имя и номер телефона через пробел: \").split()\n",
    "    if name == \"0\" and phone == \"0\":\n",
    "        break\n",
    "    data[name] = phone\n",
    "\n",
    "print(\"Номера телефонов в порядке возрастания:\", get_sorted_numbers(data))\n",
    "print(\"Имена в порядке возрастания:\", get_sorted_names(data))"
   ]
  }
 ],
 "metadata": {
  "kernelspec": {
   "display_name": "Python 3",
   "language": "python",
   "name": "python3"
  },
  "language_info": {
   "codemirror_mode": {
    "name": "ipython",
    "version": 3
   },
   "file_extension": ".py",
   "mimetype": "text/x-python",
   "name": "python",
   "nbconvert_exporter": "python",
   "pygments_lexer": "ipython3",
   "version": "3.12.0"
  }
 },
 "nbformat": 4,
 "nbformat_minor": 2
}
