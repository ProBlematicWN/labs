{
  "nbformat": 4,
  "nbformat_minor": 0,
  "metadata": {
    "colab": {
      "provenance": [],
      "authorship_tag": "ABX9TyMu00v1rp7Py9MfzeQWSEOQ",
      "include_colab_link": true
    },
    "kernelspec": {
      "name": "python3",
      "display_name": "Python 3"
    },
    "language_info": {
      "name": "python"
    }
  },
  "cells": [
    {
      "cell_type": "markdown",
      "metadata": {
        "id": "view-in-github",
        "colab_type": "text"
      },
      "source": [
        "<a href=\"https://colab.research.google.com/github/ProBlematicWN/labs/blob/main/25_12_24_%D0%9A%D1%83%D0%B2%D1%88%D0%B8%D0%BD%D0%BE%D0%B2_%D0%91%D0%98%D0%9A_24_%D0%98%D0%921.ipynb\" target=\"_parent\"><img src=\"https://colab.research.google.com/assets/colab-badge.svg\" alt=\"Open In Colab\"/></a>"
      ]
    },
    {
      "cell_type": "markdown",
      "source": [
        "Задание №1"
      ],
      "metadata": {
        "id": "L9NZjTbmSzBt"
      }
    },
    {
      "cell_type": "code",
      "source": [
        "list = []\n",
        "\n",
        "\n",
        "while True:\n",
        "  num = int(input(\"Введите: \"))\n",
        "  if num != 0:\n",
        "    list.append(num)\n",
        "  if num == 0:\n",
        "    break\n",
        "\n",
        "def summ():\n",
        "  a = 0\n",
        "  for arg in list:\n",
        "    a = arg + a\n",
        "  return a\n",
        "\n",
        "result = summ()\n",
        "print(result)"
      ],
      "metadata": {
        "id": "2UtUnCP0SzJk"
      },
      "execution_count": null,
      "outputs": []
    },
    {
      "cell_type": "markdown",
      "source": [
        "Задание №2"
      ],
      "metadata": {
        "id": "WvextlUdSzQ8"
      }
    },
    {
      "cell_type": "code",
      "source": [
        "def data_collect():\n",
        "  data = []\n",
        "  while True:\n",
        "    entered = input('Введите 0-0 для завершения: ')\n",
        "    if entered == \"0-0\":\n",
        "      break\n",
        "    name, phone = entered.split('-')\n",
        "    data.append((name, int(phone)))\n",
        "    return data_collect()\n",
        "\n",
        "def num_sort(data):\n",
        "  return sorted(data)\n",
        "\n",
        "#def name_sort(data):\n",
        "# return sorted()\n",
        "\n",
        "data = data_collect()\n",
        "\n",
        "sorted_numbers = num_sort(data)\n",
        "#sorted_names = name_sort(data)\n",
        "\n",
        "print(sorted_numbers)\n",
        "#print(sorted_names)\n",
        "#print(data)"
      ],
      "metadata": {
        "id": "s395plAISzY0"
      },
      "execution_count": null,
      "outputs": []
    }
  ]
}