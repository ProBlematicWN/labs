{
  "nbformat": 4,
  "nbformat_minor": 0,
  "metadata": {
    "colab": {
      "provenance": [],
      "authorship_tag": "ABX9TyMZ0dF6AmASt6KHtf9/r0EH",
      "include_colab_link": true
    },
    "kernelspec": {
      "name": "python3",
      "display_name": "Python 3"
    },
    "language_info": {
      "name": "python"
    }
  },
  "cells": [
    {
      "cell_type": "markdown",
      "metadata": {
        "id": "view-in-github",
        "colab_type": "text"
      },
      "source": [
        "<a href=\"https://colab.research.google.com/github/ProBlematicWN/labs/blob/main/%D0%9A%D1%83%D0%B2%D1%88%D0%B8%D0%BD%D0%BE%D0%B2_%D0%91%D0%98%D0%9A_24_%D0%98%D0%921_%D0%9B%D0%B0%D0%B1%D0%BE%D1%80%D0%B0%D1%82%D0%BE%D1%80%D0%BD%D0%B0%D1%8F_%D1%80%D0%B0%D0%B1%D0%BE%D1%82%D0%B0_%E2%84%963.ipynb\" target=\"_parent\"><img src=\"https://colab.research.google.com/assets/colab-badge.svg\" alt=\"Open In Colab\"/></a>"
      ]
    },
    {
      "cell_type": "code",
      "execution_count": null,
      "metadata": {
        "id": "HTiaTu6O1LRC"
      },
      "outputs": [],
      "source": [
        "inp = input()\n",
        "#inp = (\"абв,абвг,вбгд\")\n",
        "list = []\n",
        "answer = inp.split(\",\")\n",
        "for i in answer:\n",
        "  list.append(len(i))\n",
        "print(list)"
      ]
    },
    {
      "cell_type": "code",
      "source": [
        "n = 8\n",
        "m = 5\n",
        "string = \"Привет мир\"\n",
        "\n",
        "print(string[:n].split())\n",
        "print(string[m:].split())"
      ],
      "metadata": {
        "id": "WH5ngjiwKc8m"
      },
      "execution_count": null,
      "outputs": []
    }
  ]
}