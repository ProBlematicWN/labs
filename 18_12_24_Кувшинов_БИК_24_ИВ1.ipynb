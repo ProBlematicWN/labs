{
  "nbformat": 4,
  "nbformat_minor": 0,
  "metadata": {
    "colab": {
      "provenance": [],
      "authorship_tag": "ABX9TyMZbR5Z21ZAkwNW1QHo9kdu",
      "include_colab_link": true
    },
    "kernelspec": {
      "name": "python3",
      "display_name": "Python 3"
    },
    "language_info": {
      "name": "python"
    }
  },
  "cells": [
    {
      "cell_type": "markdown",
      "metadata": {
        "id": "view-in-github",
        "colab_type": "text"
      },
      "source": [
        "<a href=\"https://colab.research.google.com/github/ProBlematicWN/labs/blob/main/18_12_24_%D0%9A%D1%83%D0%B2%D1%88%D0%B8%D0%BD%D0%BE%D0%B2_%D0%91%D0%98%D0%9A_24_%D0%98%D0%921.ipynb\" target=\"_parent\"><img src=\"https://colab.research.google.com/assets/colab-badge.svg\" alt=\"Open In Colab\"/></a>"
      ]
    },
    {
      "cell_type": "markdown",
      "source": [
        "Задание №1"
      ],
      "metadata": {
        "id": "UkC1U6aeVAB7"
      }
    },
    {
      "cell_type": "code",
      "execution_count": 10,
      "metadata": {
        "id": "1BSMcOsSIwI4",
        "colab": {
          "base_uri": "https://localhost:8080/"
        },
        "outputId": "f51fe609-17b6-4ce5-8db2-f645dff39b2d"
      },
      "outputs": [
        {
          "output_type": "stream",
          "name": "stdout",
          "text": [
            "Введите 0 для завершения операции: 1\n",
            "Введите 0 для завершения операции: 1\n",
            "Введите 0 для завершения операции: 1\n",
            "Введите 0 для завершения операции: 2\n",
            "Введите 0 для завершения операции: 3\n",
            "Введите 0 для завершения операции: 0\n",
            "{1: 3, 2: 1, 3: 1}\n",
            "{1, 2, 3}\n"
          ]
        }
      ],
      "source": [
        "inp = []\n",
        "dict1 = dict()\n",
        "\n",
        "\n",
        "while True:\n",
        "  inp1 = int(input(\"Введите 0 для завершения операции: \"))\n",
        "  if inp1 == 0:\n",
        "    break\n",
        "  inp.append(inp1)\n",
        "\n",
        "for i in set(inp):\n",
        "  dict1.update({ i: inp.count(i)})\n",
        "\n",
        "print(dict1)\n",
        "print(set(inp))"
      ]
    },
    {
      "cell_type": "markdown",
      "source": [
        "Задание №2"
      ],
      "metadata": {
        "id": "Zn1Q3KGVVD-l"
      }
    },
    {
      "cell_type": "code",
      "source": [
        "phone_book = {\n",
        "    \"contact1\": \"number1\",\n",
        "    \"contact2\": \"number2\",\n",
        "    \"contact3\": \"number3\",\n",
        "    \"contact4\": \"number4\",\n",
        "}\n",
        "\n",
        "while True:\n",
        "  inp1 = input(\n",
        "  \"add - Добавление нового номера\"\"\\n\"\n",
        "  \"who - Узнать номер телефона по имени\"\"\\n\")\n",
        "  if inp1 == \"add\":\n",
        "    new_contact, new_number = input(\"Введите имя и номер нового контакта:\"\"\\n\").split()\n",
        "    phone_book.update({new_contact: new_number})\n",
        "  if inp1 == \"who\":\n",
        "    who_number = input(\"Введите имя контакна:\"\"\\n\")\n",
        "    ind = phone_book.keys().index(who_number)\n",
        "    book_keys = list(phone_book.keys())\n",
        "    book_values = list(phone_book.values())\n",
        "    print(book_keys[ind])\n",
        "\n",
        "print(phone_book)"
      ],
      "metadata": {
        "id": "aijcEOP9VGPm"
      },
      "execution_count": null,
      "outputs": []
    },
    {
      "cell_type": "code",
      "source": [],
      "metadata": {
        "id": "EkHyI34tWnnt"
      },
      "execution_count": null,
      "outputs": []
    }
  ]
}