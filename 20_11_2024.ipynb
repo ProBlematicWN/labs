{
  "nbformat": 4,
  "nbformat_minor": 0,
  "metadata": {
    "colab": {
      "provenance": [],
      "authorship_tag": "ABX9TyP1sy1L2c+Rf/rFKcGoUz6n",
      "include_colab_link": true
    },
    "kernelspec": {
      "name": "python3",
      "display_name": "Python 3"
    },
    "language_info": {
      "name": "python"
    }
  },
  "cells": [
    {
      "cell_type": "markdown",
      "metadata": {
        "id": "view-in-github",
        "colab_type": "text"
      },
      "source": [
        "<a href=\"https://colab.research.google.com/github/ProBlematicWN/labs/blob/main/20_11_2024.ipynb\" target=\"_parent\"><img src=\"https://colab.research.google.com/assets/colab-badge.svg\" alt=\"Open In Colab\"/></a>"
      ]
    },
    {
      "cell_type": "markdown",
      "source": [
        "Заданеие №1"
      ],
      "metadata": {
        "id": "rysnHdZgEEUd"
      }
    },
    {
      "cell_type": "code",
      "execution_count": 5,
      "metadata": {
        "colab": {
          "base_uri": "https://localhost:8080/"
        },
        "id": "-X9oOLzUDLKt",
        "outputId": "cf3045f8-b25e-4a96-c7d9-b52df30c01b1"
      },
      "outputs": [
        {
          "output_type": "stream",
          "name": "stdout",
          "text": [
            "[1, 2, 3, 4, 5, 6, 7, 8, 9, 10] [1, 4, 9, 16, 25, 36, 49, 64, 81, 100] [1, 8, 27, 64, 125, 216, 343, 512, 729, 1000]\n"
          ]
        }
      ],
      "source": [
        "list = []\n",
        "list_square = []\n",
        "list_cube = []\n",
        "for num in range(1,11):\n",
        "  list.append(num)\n",
        "  list_square.append(num**2)\n",
        "  list_cube.append(num**3)\n",
        "print(list, list_square, list_cube)"
      ]
    },
    {
      "cell_type": "markdown",
      "source": [
        "Задание №2"
      ],
      "metadata": {
        "id": "LxAetU8kEIYG"
      }
    },
    {
      "cell_type": "code",
      "source": [
        "numbers = []\n",
        "while True:\n",
        "  num = int(input(\"Введите число (0 для завершения)\"))\n",
        "  if num == 0:\n",
        "    break\n",
        "  numbers.append(num)\n",
        "\n",
        "min = min(numbers)\n",
        "print(\"Минимальное значение:\", min)\n",
        "\n",
        "max = max(numbers)\n",
        "print(\"Максимальное значение:\", max)\n",
        "\n",
        "#sorted = numbers.sort()\n",
        "#print(\"Отсортированный по возрастанию список:\", sorted)\n",
        "\n",
        "sorted = sorted(numbers)\n",
        "print(\"Отсортированный по возрастанию список:\", sorted)\n",
        "\n",
        "sorted_rev = sorted(numbers, reverse=True)\n",
        "print(\"Отсортированный по убыванию список:\", sorted_rev)\n",
        "\n",
        "list_len = len(numbers)\n",
        "print(\"Количество элементов в списке:\", list_len)\n",
        "\n",
        "list_ones = numbers.count(1)\n",
        "print(\"Количество единиц в списке:\", list_ones)\n",
        "\n",
        "list_sum = sum(numbers)\n",
        "print(\"Сумма всех чисел:\", list_sum)\n",
        "\n",
        "last_index = len(numbers) - 1\n",
        "last_value = numbers[-1]\n",
        "print(\"Индекс последнего элемента:\", last_index)\n",
        "print(\"Значение последнего элемента:\", last_value)"
      ],
      "metadata": {
        "colab": {
          "base_uri": "https://localhost:8080/",
          "height": 287
        },
        "id": "vJYfBRt4EIl0",
        "outputId": "8557a120-f324-47f6-9c41-86c3074f4db3"
      },
      "execution_count": 14,
      "outputs": [
        {
          "name": "stdout",
          "output_type": "stream",
          "text": [
            "Введите число (0 для завершения)1\n",
            "Введите число (0 для завершения)2\n",
            "Введите число (0 для завершения)3\n",
            "Введите число (0 для завершения)0\n"
          ]
        },
        {
          "output_type": "error",
          "ename": "TypeError",
          "evalue": "'int' object is not callable",
          "traceback": [
            "\u001b[0;31m---------------------------------------------------------------------------\u001b[0m",
            "\u001b[0;31mTypeError\u001b[0m                                 Traceback (most recent call last)",
            "\u001b[0;32m<ipython-input-14-6ad370d17938>\u001b[0m in \u001b[0;36m<cell line: 8>\u001b[0;34m()\u001b[0m\n\u001b[1;32m      6\u001b[0m   \u001b[0mnumbers\u001b[0m\u001b[0;34m.\u001b[0m\u001b[0mappend\u001b[0m\u001b[0;34m(\u001b[0m\u001b[0mnum\u001b[0m\u001b[0;34m)\u001b[0m\u001b[0;34m\u001b[0m\u001b[0;34m\u001b[0m\u001b[0m\n\u001b[1;32m      7\u001b[0m \u001b[0;34m\u001b[0m\u001b[0m\n\u001b[0;32m----> 8\u001b[0;31m \u001b[0mmin\u001b[0m \u001b[0;34m=\u001b[0m \u001b[0mmin\u001b[0m\u001b[0;34m(\u001b[0m\u001b[0mnumbers\u001b[0m\u001b[0;34m)\u001b[0m\u001b[0;34m\u001b[0m\u001b[0;34m\u001b[0m\u001b[0m\n\u001b[0m\u001b[1;32m      9\u001b[0m \u001b[0mprint\u001b[0m\u001b[0;34m(\u001b[0m\u001b[0;34m\"Минимальное значение:\"\u001b[0m\u001b[0;34m,\u001b[0m \u001b[0mmin\u001b[0m\u001b[0;34m)\u001b[0m\u001b[0;34m\u001b[0m\u001b[0;34m\u001b[0m\u001b[0m\n\u001b[1;32m     10\u001b[0m \u001b[0;34m\u001b[0m\u001b[0m\n",
            "\u001b[0;31mTypeError\u001b[0m: 'int' object is not callable"
          ]
        }
      ]
    },
    {
      "cell_type": "markdown",
      "source": [
        "Задание №3"
      ],
      "metadata": {
        "id": "uQPXaD_wEIwl"
      }
    },
    {
      "cell_type": "code",
      "source": [
        "nums = []\n",
        "\n",
        "while True:\n",
        "  num = int(input(\"Введите число (0 для завершения)\"))\n",
        "  print(\"Остаток от деления на 10:\", num % 10)\n",
        "  if num == 0:\n",
        "    break\n",
        "  if num % 2 == 0:\n",
        "    nums.append(num)\n",
        "\n",
        "\n",
        "for i in nums:\n",
        "  if nums[i] % 10 == 0:\n",
        "    nums.remove(i)2\n",
        "\n",
        "print(nums)"
      ],
      "metadata": {
        "colab": {
          "base_uri": "https://localhost:8080/",
          "height": 502
        },
        "id": "ARogz1SFEI5E",
        "outputId": "822af47d-3cad-48a3-d6ed-9b6f7c73cd31"
      },
      "execution_count": 21,
      "outputs": [
        {
          "output_type": "stream",
          "name": "stdout",
          "text": [
            "Введите число (0 для завершения)1\n",
            "Остаток от деления на 10: 1\n",
            "Введите число (0 для завершения)2\n",
            "Остаток от деления на 10: 2\n",
            "Введите число (0 для завершения)3\n",
            "Остаток от деления на 10: 3\n",
            "Введите число (0 для завершения)10\n",
            "Остаток от деления на 10: 0\n",
            "Введите число (0 для завершения)20\n",
            "Остаток от деления на 10: 0\n",
            "Введите число (0 для завершения)30\n",
            "Остаток от деления на 10: 0\n",
            "Введите число (0 для завершения)40\n",
            "Остаток от деления на 10: 0\n",
            "Введите число (0 для завершения)0\n",
            "Остаток от деления на 10: 0\n"
          ]
        },
        {
          "output_type": "error",
          "ename": "IndexError",
          "evalue": "list index out of range",
          "traceback": [
            "\u001b[0;31m---------------------------------------------------------------------------\u001b[0m",
            "\u001b[0;31mIndexError\u001b[0m                                Traceback (most recent call last)",
            "\u001b[0;32m<ipython-input-21-8186c51ccb84>\u001b[0m in \u001b[0;36m<cell line: 12>\u001b[0;34m()\u001b[0m\n\u001b[1;32m     11\u001b[0m \u001b[0;34m\u001b[0m\u001b[0m\n\u001b[1;32m     12\u001b[0m \u001b[0;32mfor\u001b[0m \u001b[0mi\u001b[0m \u001b[0;32min\u001b[0m \u001b[0mnums\u001b[0m\u001b[0;34m:\u001b[0m\u001b[0;34m\u001b[0m\u001b[0;34m\u001b[0m\u001b[0m\n\u001b[0;32m---> 13\u001b[0;31m   \u001b[0;32mif\u001b[0m \u001b[0mnums\u001b[0m\u001b[0;34m[\u001b[0m\u001b[0mi\u001b[0m\u001b[0;34m]\u001b[0m \u001b[0;34m%\u001b[0m \u001b[0;36m10\u001b[0m \u001b[0;34m==\u001b[0m \u001b[0;36m0\u001b[0m\u001b[0;34m:\u001b[0m\u001b[0;34m\u001b[0m\u001b[0;34m\u001b[0m\u001b[0m\n\u001b[0m\u001b[1;32m     14\u001b[0m     \u001b[0mnums\u001b[0m\u001b[0;34m.\u001b[0m\u001b[0mremove\u001b[0m\u001b[0;34m(\u001b[0m\u001b[0mi\u001b[0m\u001b[0;34m)\u001b[0m\u001b[0;34m\u001b[0m\u001b[0;34m\u001b[0m\u001b[0m\n\u001b[1;32m     15\u001b[0m \u001b[0;34m\u001b[0m\u001b[0m\n",
            "\u001b[0;31mIndexError\u001b[0m: list index out of range"
          ]
        }
      ]
    }
  ]
}