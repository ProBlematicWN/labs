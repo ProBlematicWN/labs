{
  "nbformat": 4,
  "nbformat_minor": 0,
  "metadata": {
    "colab": {
      "provenance": [],
      "authorship_tag": "ABX9TyMY6P7zy9uI+eGRSqlyoPKI",
      "include_colab_link": true
    },
    "kernelspec": {
      "name": "python3",
      "display_name": "Python 3"
    },
    "language_info": {
      "name": "python"
    }
  },
  "cells": [
    {
      "cell_type": "markdown",
      "metadata": {
        "id": "view-in-github",
        "colab_type": "text"
      },
      "source": [
        "<a href=\"https://colab.research.google.com/github/ProBlematicWN/unnamed/blob/main/%D0%91%D0%98%D0%9A_24_%D0%98%D0%921.ipynb\" target=\"_parent\"><img src=\"https://colab.research.google.com/assets/colab-badge.svg\" alt=\"Open In Colab\"/></a>"
      ]
    },
    {
      "cell_type": "code",
      "execution_count": 5,
      "metadata": {
        "colab": {
          "base_uri": "https://localhost:8080/"
        },
        "id": "6ER27-MUmtdA",
        "outputId": "9de6cc08-a01d-4dc2-ba70-957c45885800"
      },
      "outputs": [
        {
          "output_type": "stream",
          "name": "stdout",
          "text": [
            "3 3\n"
          ]
        }
      ],
      "source": [
        "a = 1\n",
        "b = 2\n",
        "c = a + b\n",
        "print(c, a+b)"
      ]
    }
  ]
}