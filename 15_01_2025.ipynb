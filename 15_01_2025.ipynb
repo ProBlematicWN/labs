{
  "nbformat": 4,
  "nbformat_minor": 0,
  "metadata": {
    "colab": {
      "provenance": [],
      "authorship_tag": "ABX9TyOql1L7P8Oc32k8x2gl9nS4",
      "include_colab_link": true
    },
    "kernelspec": {
      "name": "python3",
      "display_name": "Python 3"
    },
    "language_info": {
      "name": "python"
    }
  },
  "cells": [
    {
      "cell_type": "markdown",
      "metadata": {
        "id": "view-in-github",
        "colab_type": "text"
      },
      "source": [
        "<a href=\"https://colab.research.google.com/github/ProBlematicWN/labs/blob/main/15_01_2025.ipynb\" target=\"_parent\"><img src=\"https://colab.research.google.com/assets/colab-badge.svg\" alt=\"Open In Colab\"/></a>"
      ]
    },
    {
      "cell_type": "code",
      "source": [
        "import random"
      ],
      "metadata": {
        "id": "pkopSUcVinqQ"
      },
      "execution_count": null,
      "outputs": []
    },
    {
      "cell_type": "markdown",
      "source": [
        "Задание №1"
      ],
      "metadata": {
        "id": "Op9JtrNDYpyh"
      }
    },
    {
      "cell_type": "code",
      "source": [
        "with open('input.txt', 'r', encoding='utf-8') as input_file:\n",
        "    line = input_file.readlines()\n",
        "\n",
        "with open('result.txt', 'w', encoding='utf-8') as output_file:\n",
        "    for line in line:\n",
        "        output_file.write(f\"{line.strip()} {random.randint(1000, 9999)}\\n\")"
      ],
      "metadata": {
        "id": "j8jEFw7UYp6x"
      },
      "execution_count": 5,
      "outputs": []
    },
    {
      "cell_type": "markdown",
      "source": [
        "Задание №2"
      ],
      "metadata": {
        "id": "55yD_FkNYqLa"
      }
    },
    {
      "cell_type": "code",
      "source": [],
      "metadata": {
        "id": "TvP5rhduYqTJ"
      },
      "execution_count": null,
      "outputs": []
    }
  ]
}